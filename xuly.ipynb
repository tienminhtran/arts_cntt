{
 "cells": [
  {
   "cell_type": "code",
   "execution_count": null,
   "id": "320ce295",
   "metadata": {},
   "outputs": [],
   "source": [
    "import pandas as pd\n",
    "\n"
   ]
  },
  {
   "cell_type": "code",
   "execution_count": 3,
   "id": "85d60d4f",
   "metadata": {},
   "outputs": [
    {
     "name": "stdout",
     "output_type": "stream",
     "text": [
      "📌 Nội dung DanhSachKhungGio.xlsx:\n",
      "              Họ tên        SĐT  Thời gian dự thi  Khung giờ      MSSV\n",
      "0  Nguyễn Quang Khải  855370246                 5  17h30-18h  22710571\n",
      "1           Hồng Quý  799701603                 5  17h-17h30  25663211\n",
      "2     Nguyễn Gia Bảo  369209707                 5  19h-19h30  25633641\n",
      "3   Hoàng Huỳnh Châu  908417082                 6  17h-17h30  24665041\n",
      "4  Võ Nguyễn Thùy An  868754473                 5  17h-17h30  25713901\n",
      "\n",
      "📌 Nội dung DanhSachDangKy.xlsx:\n",
      "               Địa chỉ email      MSSV Lớp Danh Nghĩa  \\\n",
      "0  hoanghanhnhibmt@gmail.com  21067131      DHHTTT17B   \n",
      "1   duythong072020@gmail.com  22640421    DHHTTT18ATT   \n",
      "2     vutuankiet36@gmail.com  22658781            NaN   \n",
      "3         dtai.nng@gmail.com  22666271      DHTH18DTT   \n",
      "4        rauneeeee@gmail.com  22680081            NaN   \n",
      "\n",
      "  Số điện thoại (có dùng zalo)                     Khoa   \\\n",
      "0                   0949804347  Khoa Công nghệ Thông tin   \n",
      "1                   0786800626  Khoa Công nghệ Thông tin   \n",
      "2                   0386292242            Khoa Ngoại ngữ   \n",
      "3                   0879282989  Khoa Công nghệ Thông tin   \n",
      "4                   0818557890            Khoa Ngoại ngữ   \n",
      "\n",
      "                            Lựa chọn thể loại: Họ và tên người đại diện   \n",
      "0                                       Đơn ca            Hoàng Hạnh Nhi  \n",
      "1                       Song ca/ Tam ca/Tốp ca             Ngô Duy Thông  \n",
      "2                                       Đơn ca              Vũ Tuấn Kiệt  \n",
      "3                       Song ca/ Tam ca/Tốp ca           Nguyen Van Hung  \n",
      "4  Thể loại khác (vũ đạo, ảo thuật, rap, v.v.)        Nguyễn Hoàng Thiện  \n"
     ]
    }
   ],
   "source": [
    "import pandas as pd\n",
    "\n",
    "# Đọc file danh sách khung giờ\n",
    "df_khunggio = pd.read_excel(\"danhsachapi.xlsx\")\n",
    "print(\"📌 Nội dung DanhSachKhungGio.xlsx:\")\n",
    "print(df_khunggio.head())   # In 5 dòng đầu\n",
    "\n",
    "# Đọc file danh sách đăng ký\n",
    "df_dangky = pd.read_excel(\"dangki.xlsx\")\n",
    "print(\"\\n📌 Nội dung DanhSachDangKy.xlsx:\")\n",
    "print(df_dangky.head())   # In 5 dòng đầu\n"
   ]
  },
  {
   "cell_type": "code",
   "execution_count": 4,
   "id": "aff1c749",
   "metadata": {},
   "outputs": [
    {
     "name": "stdout",
     "output_type": "stream",
     "text": [
      "✅ Đã xuất thành công 2 file:\n",
      "- thisinhcodangmachuadienkhunggio.xlsx\n",
      "- thisinhdienkhunggiochuadienformdangki.xlsx\n"
     ]
    }
   ],
   "source": [
    "def xuly_danhsach(file_khunggio, file_dangky):\n",
    "    # Đọc dữ liệu từ 2 file Excel\n",
    "    df_khunggio = pd.read_excel(file_khunggio)\n",
    "    df_dangky = pd.read_excel(file_dangky)\n",
    "\n",
    "    # Chuẩn hóa MSSV thành chuỗi để so sánh chính xác\n",
    "    df_khunggio['MSSV'] = df_khunggio['MSSV'].astype(str).str.strip()\n",
    "    df_dangky['MSSV'] = df_dangky['MSSV'].astype(str).str.strip()\n",
    "\n",
    "    # 1. Thí sinh có đăng ký nhưng chưa có khung giờ\n",
    "    thisinh_chua_khunggio = df_dangky[~df_dangky['MSSV'].isin(df_khunggio['MSSV'])]\n",
    "\n",
    "    # 2. Thí sinh có khung giờ nhưng chưa có trong form đăng ký\n",
    "    thisinh_chua_dangky = df_khunggio[~df_khunggio['MSSV'].isin(df_dangky['MSSV'])]\n",
    "\n",
    "    # Xuất ra 2 file Excel riêng\n",
    "    thisinh_chua_khunggio.to_excel(\"thisinhcodangmachuadienkhunggio.xlsx\", index=False)\n",
    "    thisinh_chua_dangky.to_excel(\"thisinhdienkhunggiochuadienformdangki.xlsx\", index=False)\n",
    "\n",
    "    print(\"✅ Đã xuất thành công 2 file:\")\n",
    "    print(\"- thisinhcodangmachuadienkhunggio.xlsx\")\n",
    "    print(\"- thisinhdienkhunggiochuadienformdangki.xlsx\")\n",
    "\n",
    "\n",
    "# Gọi hàm với file đầu vào\n",
    "xuly_danhsach(\"DanhSachKhungGio.xlsx\", \"DanhSachDangKi.xlsx\")\n"
   ]
  },
  {
   "cell_type": "code",
   "execution_count": 1,
   "id": "4b1ef9a8",
   "metadata": {},
   "outputs": [],
   "source": [
    "import pandas as pd"
   ]
  },
  {
   "cell_type": "code",
   "execution_count": 2,
   "id": "17da5b32",
   "metadata": {},
   "outputs": [
    {
     "name": "stdout",
     "output_type": "stream",
     "text": [
      "✅ Đã xuất file: dangkithamdu.xlsx\n"
     ]
    }
   ],
   "source": [
    "import pandas as pd\n",
    "\n",
    "# Đọc 2 file excel\n",
    "df_dangky = pd.read_excel(\"dangki.xlsx\")\n",
    "df_api = pd.read_excel(\"danhsachapi.xlsx\")\n",
    "\n",
    "# Ghép dữ liệu theo MSSV (inner join để lấy MSSV trùng khớp)\n",
    "df_merged = pd.merge(df_dangky, df_api[['MSSV', 'Thời gian dự thi', 'Khung giờ']], \n",
    "                     on=\"MSSV\", how=\"left\")\n",
    "\n",
    "# Xuất ra file Excel mới\n",
    "output_file = \"dangkithamdu.xlsx\"\n",
    "df_merged.to_excel(output_file, index=False)\n",
    "\n",
    "print(f\"✅ Đã xuất file: {output_file}\")\n"
   ]
  }
 ],
 "metadata": {
  "kernelspec": {
   "display_name": "Python 3",
   "language": "python",
   "name": "python3"
  },
  "language_info": {
   "codemirror_mode": {
    "name": "ipython",
    "version": 3
   },
   "file_extension": ".py",
   "mimetype": "text/x-python",
   "name": "python",
   "nbconvert_exporter": "python",
   "pygments_lexer": "ipython3",
   "version": "3.12.3"
  }
 },
 "nbformat": 4,
 "nbformat_minor": 5
}
